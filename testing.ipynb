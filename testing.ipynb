{
 "cells": [
  {
   "cell_type": "code",
   "execution_count": 220,
   "metadata": {},
   "outputs": [],
   "source": [
    "import numpy as np\n",
    "import pandas as pd\n",
    "\n",
    "from sklearn.tree import DecisionTreeRegressor\n",
    "from sklearn.ensemble import RandomForestRegressor\n",
    "from sklearn.preprocessing import StandardScaler\n",
    "from sklearn.decomposition import PCA\n",
    "from sklearn.model_selection import train_test_split, RandomizedSearchCV, GridSearchCV\n",
    "from sklearn.model_selection import cross_val_score\n",
    "\n",
    "import matplotlib.pyplot as plt\n",
    "\n",
    "from pprint import pprint"
   ]
  },
  {
   "cell_type": "code",
   "execution_count": 159,
   "metadata": {},
   "outputs": [],
   "source": [
    "jacket = pd.read_excel('data/sizing.xlsx', sheet_name=1)"
   ]
  },
  {
   "cell_type": "code",
   "execution_count": 189,
   "metadata": {},
   "outputs": [],
   "source": [
    "jacket.replace(0, np.nan, inplace=True)"
   ]
  },
  {
   "cell_type": "code",
   "execution_count": 193,
   "metadata": {},
   "outputs": [],
   "source": [
    "jacket.dropna(inplace=True)"
   ]
  },
  {
   "cell_type": "code",
   "execution_count": 160,
   "metadata": {},
   "outputs": [
    {
     "data": {
      "text/plain": [
       "Index(['OrderNo', 'BehindClothLengthBody', 'FrontClothLengthBody',\n",
       "       'ShoulderWidthBody', 'BustBody', 'AbdomenBody', 'LeftSleeveLengthBody',\n",
       "       'RightSleeveLengthBody', 'WristBody', 'BehindClothLengthSetNumber',\n",
       "       'FrontClothLengthSetNumber', 'ShoulderWidthSetNumber', 'BustSetNumber',\n",
       "       'AbdomenSetNumber', 'HemSetNumber', 'LeftSleeveLengthSetNumber',\n",
       "       'RightSleeveLengthSetNumber', 'Wrist finish'],\n",
       "      dtype='object')"
      ]
     },
     "execution_count": 160,
     "metadata": {},
     "output_type": "execute_result"
    }
   ],
   "source": [
    "jacket.columns"
   ]
  },
  {
   "cell_type": "code",
   "execution_count": 161,
   "metadata": {},
   "outputs": [],
   "source": [
    "X1 = jacket[['ShoulderWidthBody', 'BustBody', 'WristBody']]\n",
    "X2 = jacket[['BehindClothLengthBody', 'FrontClothLengthBody', 'ShoulderWidthBody', 'BustBody', 'AbdomenBody', \\\n",
    "                          'LeftSleeveLengthBody', 'RightSleeveLengthBody', 'WristBody']]\n",
    "y = jacket[['BehindClothLengthSetNumber', 'FrontClothLengthSetNumber', 'ShoulderWidthSetNumber', 'BustSetNumber', 'AbdomenSetNumber', \\\n",
    "                       'HemSetNumber', 'LeftSleeveLengthSetNumber', 'RightSleeveLengthSetNumber', 'Wrist finish']]"
   ]
  },
  {
   "cell_type": "code",
   "execution_count": 207,
   "metadata": {},
   "outputs": [],
   "source": [
    "def split(X, y):\n",
    "    X_train, X_test, y_train, y_test = train_test_split(X, y, test_size=.2, random_state=0)\n",
    "    return X_train, X_test, y_train, y_test"
   ]
  },
  {
   "cell_type": "code",
   "execution_count": 235,
   "metadata": {},
   "outputs": [
    {
     "name": "stdout",
     "output_type": "stream",
     "text": [
      "Fitting 3 folds for each of 100 candidates, totalling 300 fits\n"
     ]
    },
    {
     "name": "stderr",
     "output_type": "stream",
     "text": [
      "[Parallel(n_jobs=-1)]: Using backend LokyBackend with 8 concurrent workers.\n",
      "[Parallel(n_jobs=-1)]: Done  25 tasks      | elapsed:    4.4s\n",
      "[Parallel(n_jobs=-1)]: Done 146 tasks      | elapsed:   19.9s\n",
      "[Parallel(n_jobs=-1)]: Done 300 out of 300 | elapsed:   36.5s finished\n"
     ]
    },
    {
     "name": "stdout",
     "output_type": "stream",
     "text": [
      "Fitting 3 folds for each of 100 candidates, totalling 300 fits\n"
     ]
    },
    {
     "name": "stderr",
     "output_type": "stream",
     "text": [
      "[Parallel(n_jobs=-1)]: Using backend LokyBackend with 8 concurrent workers.\n",
      "[Parallel(n_jobs=-1)]: Done  34 tasks      | elapsed:    2.5s\n",
      "[Parallel(n_jobs=-1)]: Done 178 tasks      | elapsed:   17.5s\n",
      "[Parallel(n_jobs=-1)]: Done 300 out of 300 | elapsed:   27.3s finished\n"
     ]
    }
   ],
   "source": [
    "X1_train, X1_test, y1_train, y1_test = split(X1, X2)\n",
    "X2_train, X2_test, y2_train, y2_test = split(X2, y)\n",
    "from_3 = rand_grid_search(X1_train, y1_train)\n",
    "to_all = rand_grid_search(X2_train, y2_train)"
   ]
  },
  {
   "cell_type": "code",
   "execution_count": 237,
   "metadata": {},
   "outputs": [
    {
     "data": {
      "text/plain": [
       "RandomForestRegressor(max_depth=30, max_features=2, min_samples_split=4,\n",
       "                      n_estimators=447)"
      ]
     },
     "execution_count": 237,
     "metadata": {},
     "output_type": "execute_result"
    }
   ],
   "source": [
    "from_3.fit(X1_train, y1_train)\n",
    "to_all.fit(X2_train, y2_train)"
   ]
  },
  {
   "cell_type": "code",
   "execution_count": 271,
   "metadata": {},
   "outputs": [
    {
     "data": {
      "text/plain": [
       "0.8816067016504446"
      ]
     },
     "execution_count": 271,
     "metadata": {},
     "output_type": "execute_result"
    }
   ],
   "source": [
    "from_3.score(X1_test, y1_test)"
   ]
  },
  {
   "cell_type": "code",
   "execution_count": 272,
   "metadata": {},
   "outputs": [
    {
     "data": {
      "text/plain": [
       "0.30239131864072255"
      ]
     },
     "execution_count": 272,
     "metadata": {},
     "output_type": "execute_result"
    }
   ],
   "source": [
    "to_all.score(X2_test, y2_test)"
   ]
  },
  {
   "cell_type": "code",
   "execution_count": 273,
   "metadata": {},
   "outputs": [
    {
     "data": {
      "text/plain": [
       "0.1596519328761033"
      ]
     },
     "execution_count": 273,
     "metadata": {},
     "output_type": "execute_result"
    }
   ],
   "source": [
    "only3_model_rand.score(X1_test, y2_test)"
   ]
  },
  {
   "cell_type": "code",
   "execution_count": 288,
   "metadata": {},
   "outputs": [],
   "source": [
    "predict = (np.array([42, 110, 17]).reshape(1, -1))"
   ]
  },
  {
   "cell_type": "code",
   "execution_count": 285,
   "metadata": {},
   "outputs": [
    {
     "data": {
      "text/plain": [
       "array([[ 65.98688932,  73.51065785,  44.29222828, 108.21540609,\n",
       "        102.06490947,  59.18292463,  59.18292463,  18.09082074]])"
      ]
     },
     "execution_count": 285,
     "metadata": {},
     "output_type": "execute_result"
    }
   ],
   "source": [
    "test = from_3.predict(predict)\n",
    "test"
   ]
  },
  {
   "cell_type": "code",
   "execution_count": 289,
   "metadata": {},
   "outputs": [
    {
     "data": {
      "text/plain": [
       "array([[ 70.1000253 ,  73.75782865,  46.33865186, 114.57592948,\n",
       "        101.44016139, 112.43176867,  59.17550868,  59.18615372,\n",
       "         28.6706802 ]])"
      ]
     },
     "execution_count": 289,
     "metadata": {},
     "output_type": "execute_result"
    }
   ],
   "source": [
    "to_all.predict(from_3.predict(predict))"
   ]
  },
  {
   "cell_type": "code",
   "execution_count": 291,
   "metadata": {},
   "outputs": [
    {
     "data": {
      "text/plain": [
       "array([[ 71.258347  ,  74.77688373,  45.25676088, 116.95267798,\n",
       "        103.31829923, 114.6253392 ,  59.35165918,  59.35149404,\n",
       "         29.18876147]])"
      ]
     },
     "execution_count": 291,
     "metadata": {},
     "output_type": "execute_result"
    }
   ],
   "source": [
    "only3_model_rand.predict(predict)"
   ]
  },
  {
   "cell_type": "code",
   "execution_count": 290,
   "metadata": {},
   "outputs": [],
   "source": [
    "only3_model_base = rf.fit(X1_train, y2_train)"
   ]
  },
  {
   "cell_type": "code",
   "execution_count": 292,
   "metadata": {},
   "outputs": [
    {
     "name": "stdout",
     "output_type": "stream",
     "text": [
      "Model Performance\n",
      "Average Error: \n",
      "BehindClothLengthSetNumber     3.812770\n",
      "FrontClothLengthSetNumber      2.872804\n",
      "ShoulderWidthSetNumber         1.269391\n",
      "BustSetNumber                  3.210141\n",
      "AbdomenSetNumber               5.914386\n",
      "HemSetNumber                  10.901167\n",
      "LeftSleeveLengthSetNumber      3.297376\n",
      "RightSleeveLengthSetNumber     3.314144\n",
      "Wrist finish                   1.127861\n",
      "dtype: float64 degrees.\n",
      "Accuracy = \n",
      "BehindClothLengthSetNumber         -inf\n",
      "FrontClothLengthSetNumber     31.861457\n",
      "ShoulderWidthSetNumber        57.323545\n",
      "BustSetNumber                 87.507725\n",
      "AbdomenSetNumber                   -inf\n",
      "HemSetNumber                       -inf\n",
      "LeftSleeveLengthSetNumber          -inf\n",
      "RightSleeveLengthSetNumber         -inf\n",
      "Wrist finish                  72.359114\n",
      "dtype: float64%.\n"
     ]
    }
   ],
   "source": [
    "evaluate(only3_model_rand, X1_test, y2_test);"
   ]
  },
  {
   "cell_type": "code",
   "execution_count": 255,
   "metadata": {},
   "outputs": [
    {
     "name": "stdout",
     "output_type": "stream",
     "text": [
      "Fitting 3 folds for each of 100 candidates, totalling 300 fits\n"
     ]
    },
    {
     "name": "stderr",
     "output_type": "stream",
     "text": [
      "[Parallel(n_jobs=-1)]: Using backend LokyBackend with 8 concurrent workers.\n",
      "[Parallel(n_jobs=-1)]: Done  25 tasks      | elapsed:    3.7s\n",
      "[Parallel(n_jobs=-1)]: Done 146 tasks      | elapsed:   18.8s\n",
      "[Parallel(n_jobs=-1)]: Done 300 out of 300 | elapsed:   33.1s finished\n"
     ]
    },
    {
     "data": {
      "text/plain": [
       "RandomForestRegressor(max_depth=90, max_features=2, min_samples_split=4,\n",
       "                      n_estimators=668)"
      ]
     },
     "execution_count": 255,
     "metadata": {},
     "output_type": "execute_result"
    }
   ],
   "source": [
    "only3_model_rand = rand_grid_search(X1_train, y2_train)\n",
    "only3_model_rand.fit(X1_train, y2_train)"
   ]
  },
  {
   "cell_type": "code",
   "execution_count": 257,
   "metadata": {},
   "outputs": [
    {
     "name": "stdout",
     "output_type": "stream",
     "text": [
      "Model Performance\n",
      "Average Error: \n",
      "BehindClothLengthSetNumber     3.812770\n",
      "FrontClothLengthSetNumber      2.872804\n",
      "ShoulderWidthSetNumber         1.269391\n",
      "BustSetNumber                  3.210141\n",
      "AbdomenSetNumber               5.914386\n",
      "HemSetNumber                  10.901167\n",
      "LeftSleeveLengthSetNumber      3.297376\n",
      "RightSleeveLengthSetNumber     3.314144\n",
      "Wrist finish                   1.127861\n",
      "dtype: float64 degrees.\n",
      "Accuracy = \n",
      "BehindClothLengthSetNumber         -inf\n",
      "FrontClothLengthSetNumber     31.861457\n",
      "ShoulderWidthSetNumber        57.323545\n",
      "BustSetNumber                 87.507725\n",
      "AbdomenSetNumber                   -inf\n",
      "HemSetNumber                       -inf\n",
      "LeftSleeveLengthSetNumber          -inf\n",
      "RightSleeveLengthSetNumber         -inf\n",
      "Wrist finish                  72.359114\n",
      "dtype: float64%.\n"
     ]
    }
   ],
   "source": [
    "evaluate(only3_model_rand, X1_test, y2_test);"
   ]
  },
  {
   "cell_type": "code",
   "execution_count": 219,
   "metadata": {},
   "outputs": [],
   "source": [
    "y_pred = to_all.predict(from_3.predict(X1_test))"
   ]
  },
  {
   "cell_type": "code",
   "execution_count": 233,
   "metadata": {},
   "outputs": [
    {
     "data": {
      "text/plain": [
       "array([0.34993915, 0.3547325 , 0.3103995 , 0.14851771, 0.36841652])"
      ]
     },
     "execution_count": 233,
     "metadata": {},
     "output_type": "execute_result"
    }
   ],
   "source": [
    "cross_val_score(to_all, X1, y)"
   ]
  },
  {
   "cell_type": "code",
   "execution_count": 232,
   "metadata": {},
   "outputs": [
    {
     "data": {
      "text/plain": [
       "array([0.69117508, 0.13470721, 0.75921298, 0.68113718, 0.61737174])"
      ]
     },
     "execution_count": 232,
     "metadata": {},
     "output_type": "execute_result"
    }
   ],
   "source": [
    "cross_val_score(to_all, y2_test, y_pred, cv=5)"
   ]
  },
  {
   "cell_type": "code",
   "execution_count": 195,
   "metadata": {},
   "outputs": [],
   "source": [
    "X_train, X_test, y_train, y_test = train_test_split(X1, X2, test_size=.2, random_state=0)"
   ]
  },
  {
   "cell_type": "code",
   "execution_count": 197,
   "metadata": {},
   "outputs": [
    {
     "data": {
      "text/plain": [
       "RandomForestRegressor()"
      ]
     },
     "execution_count": 197,
     "metadata": {},
     "output_type": "execute_result"
    }
   ],
   "source": [
    "df = DecisionTreeRegressor()\n",
    "df.fit(X_train, y_train)\n",
    "rf = RandomForestRegressor()\n",
    "rf.fit(X_train, y_train)"
   ]
  },
  {
   "cell_type": "code",
   "execution_count": 199,
   "metadata": {},
   "outputs": [
    {
     "name": "stdout",
     "output_type": "stream",
     "text": [
      "Model Performance\n",
      "Average Error: \n",
      "BehindClothLengthBody    3.124067\n",
      "FrontClothLengthBody     2.105856\n",
      "ShoulderWidthBody        0.418919\n",
      "BustBody                 0.354955\n",
      "AbdomenBody              4.195710\n",
      "LeftSleeveLengthBody     2.871343\n",
      "RightSleeveLengthBody    2.700172\n",
      "WristBody                1.004505\n",
      "dtype: float64 degrees.\n",
      "Accuracy = \n",
      "BehindClothLengthBody         -inf\n",
      "FrontClothLengthBody     95.961944\n",
      "ShoulderWidthBody        97.040343\n",
      "BustBody                 97.666362\n",
      "AbdomenBody              92.886002\n",
      "LeftSleeveLengthBody     94.182934\n",
      "RightSleeveLengthBody         -inf\n",
      "WristBody                96.519564\n",
      "dtype: float64%.\n"
     ]
    }
   ],
   "source": [
    "evaluate(df, X_test, y_test);"
   ]
  },
  {
   "cell_type": "code",
   "execution_count": 196,
   "metadata": {},
   "outputs": [
    {
     "name": "stdout",
     "output_type": "stream",
     "text": [
      "Fitting 3 folds for each of 100 candidates, totalling 300 fits\n"
     ]
    },
    {
     "name": "stderr",
     "output_type": "stream",
     "text": [
      "[Parallel(n_jobs=-1)]: Using backend LokyBackend with 8 concurrent workers.\n",
      "[Parallel(n_jobs=-1)]: Done  25 tasks      | elapsed:    3.9s\n",
      "[Parallel(n_jobs=-1)]: Done 146 tasks      | elapsed:   18.3s\n",
      "[Parallel(n_jobs=-1)]: Done 300 out of 300 | elapsed:   31.4s finished\n"
     ]
    }
   ],
   "source": [
    "best_random = rand_grid_search(X_train, y_train)"
   ]
  },
  {
   "cell_type": "code",
   "execution_count": 200,
   "metadata": {},
   "outputs": [
    {
     "data": {
      "text/plain": [
       "0.8821205677173342"
      ]
     },
     "execution_count": 200,
     "metadata": {},
     "output_type": "execute_result"
    }
   ],
   "source": [
    "best_random.score(X_test, y_test)"
   ]
  },
  {
   "cell_type": "code",
   "execution_count": 201,
   "metadata": {},
   "outputs": [
    {
     "data": {
      "text/plain": [
       "0.8777684110206041"
      ]
     },
     "execution_count": 201,
     "metadata": {},
     "output_type": "execute_result"
    }
   ],
   "source": [
    "rf.score(X_test, y_test)"
   ]
  },
  {
   "cell_type": "code",
   "execution_count": 204,
   "metadata": {},
   "outputs": [
    {
     "name": "stdout",
     "output_type": "stream",
     "text": [
      "Model Performance\n",
      "Average Error: \n",
      "BehindClothLengthBody    3.036854\n",
      "FrontClothLengthBody     1.815056\n",
      "ShoulderWidthBody        0.380712\n",
      "BustBody                 0.328195\n",
      "AbdomenBody              4.006124\n",
      "LeftSleeveLengthBody     2.456476\n",
      "RightSleeveLengthBody    2.550310\n",
      "WristBody                0.944349\n",
      "dtype: float64 degrees.\n",
      "Accuracy = \n",
      "BehindClothLengthBody         -inf\n",
      "FrontClothLengthBody     96.394628\n",
      "ShoulderWidthBody        93.786415\n",
      "BustBody                 97.693350\n",
      "AbdomenBody              93.271116\n",
      "LeftSleeveLengthBody     94.984638\n",
      "RightSleeveLengthBody         -inf\n",
      "WristBody                96.889525\n",
      "dtype: float64%.\n"
     ]
    }
   ],
   "source": [
    "random_accuracy = evaluate(best_random, X_test, y_test);"
   ]
  },
  {
   "cell_type": "code",
   "execution_count": 205,
   "metadata": {},
   "outputs": [
    {
     "name": "stdout",
     "output_type": "stream",
     "text": [
      "Model Performance\n",
      "Average Error: \n",
      "BehindClothLengthBody    2.948042\n",
      "FrontClothLengthBody     1.803402\n",
      "ShoulderWidthBody        0.340414\n",
      "BustBody                 0.241351\n",
      "AbdomenBody              3.827302\n",
      "LeftSleeveLengthBody     2.631955\n",
      "RightSleeveLengthBody    2.547918\n",
      "WristBody                0.959730\n",
      "dtype: float64 degrees.\n",
      "Accuracy = \n",
      "BehindClothLengthBody         -inf\n",
      "FrontClothLengthBody     96.414199\n",
      "ShoulderWidthBody        97.675490\n",
      "BustBody                 97.783008\n",
      "AbdomenBody              93.452390\n",
      "LeftSleeveLengthBody     94.634526\n",
      "RightSleeveLengthBody         -inf\n",
      "WristBody                96.811074\n",
      "dtype: float64%.\n"
     ]
    }
   ],
   "source": [
    "base_accuracy = evaluate(rf, X_test, y_test);"
   ]
  },
  {
   "cell_type": "code",
   "execution_count": 206,
   "metadata": {},
   "outputs": [
    {
     "name": "stdout",
     "output_type": "stream",
     "text": [
      "Improvement of \n",
      "BehindClothLengthBody         NaN\n",
      "FrontClothLengthBody    -0.020299\n",
      "ShoulderWidthBody       -3.981629\n",
      "BustBody                -0.091690\n",
      "AbdomenBody             -0.193975\n",
      "LeftSleeveLengthBody     0.369962\n",
      "RightSleeveLengthBody         NaN\n",
      "WristBody                0.081036\n",
      "dtype: float64%.\n"
     ]
    }
   ],
   "source": [
    "print('Improvement of \\n{}%.'.format( 100 * (random_accuracy - base_accuracy) / base_accuracy));"
   ]
  },
  {
   "cell_type": "code",
   "execution_count": null,
   "metadata": {},
   "outputs": [],
   "source": [
    "def evaluate(model, test_features, test_labels):\n",
    "    predictions = model.predict(test_features)\n",
    "    errors = abs(predictions - test_labels)\n",
    "    mape = 100 * np.mean(errors / test_labels)\n",
    "    accuracy = 100 - mape\n",
    "    print('Model Performance')\n",
    "    print('Average Error: \\n{} degrees.'.format(np.mean(errors)))\n",
    "    print('Accuracy = \\n{}%.'.format(accuracy))\n",
    "    \n",
    "    return accuracy"
   ]
  },
  {
   "cell_type": "code",
   "execution_count": 85,
   "metadata": {},
   "outputs": [],
   "source": [
    "scaler = StandardScaler()\n",
    "X_train_scaled = scaler.fit_transform(X_train)\n",
    "X_test_scaled = scaler.transform(X_test)\n",
    "y_train_scaled = scaler.fit_transform(y_train)\n",
    "y_test_scaled = scaler.transform(y_train)"
   ]
  },
  {
   "cell_type": "code",
   "execution_count": 86,
   "metadata": {},
   "outputs": [
    {
     "data": {
      "text/plain": [
       "(111, 9)"
      ]
     },
     "execution_count": 86,
     "metadata": {},
     "output_type": "execute_result"
    }
   ],
   "source": [
    "y_test.shape"
   ]
  },
  {
   "cell_type": "code",
   "execution_count": 87,
   "metadata": {},
   "outputs": [
    {
     "data": {
      "text/plain": [
       "(443, 8)"
      ]
     },
     "execution_count": 87,
     "metadata": {},
     "output_type": "execute_result"
    }
   ],
   "source": [
    "X_train.shape"
   ]
  },
  {
   "cell_type": "code",
   "execution_count": 68,
   "metadata": {},
   "outputs": [
    {
     "data": {
      "text/plain": [
       "PCA(n_components=9)"
      ]
     },
     "execution_count": 68,
     "metadata": {},
     "output_type": "execute_result"
    }
   ],
   "source": [
    "xpca = PCA(n_components=8)\n",
    "xpca.fit(X_scaled)\n",
    "X_pca = xpca.transform(X_scaled)\n",
    "ypca = PCA(n_components=9)\n",
    "ypca.fit(y_scaled)"
   ]
  },
  {
   "cell_type": "code",
   "execution_count": 94,
   "metadata": {},
   "outputs": [
    {
     "data": {
      "image/png": "[encoded data removed]",
      "text/plain": [
       "<Figure size 432x288 with 1 Axes>"
      ]
     },
     "metadata": {
      "needs_background": "light"
     },
     "output_type": "display_data"
    }
   ],
   "source": [
    "plt.plot(np.cumsum(xpca.explained_variance_ratio_))\n",
    "plt.xlabel('number of components')\n",
    "plt.ylabel('cumulative explained variance');"
   ]
  },
  {
   "cell_type": "code",
   "execution_count": 44,
   "metadata": {},
   "outputs": [],
   "source": [
    "def scree_plot(ax, pca, n_components_to_plot=8, title=None):\n",
    "    \"\"\"Make a scree plot showing the variance explained (i.e. variance\n",
    "    of the projections) for the principal components in a fit sklearn\n",
    "    PCA object.\n",
    "    \n",
    "    Parameters\n",
    "    ----------\n",
    "    ax: matplotlib.axis object\n",
    "      The axis to make the scree plot on.\n",
    "      \n",
    "    pca: sklearn.decomposition.PCA object.\n",
    "      A fit PCA object.\n",
    "      \n",
    "    n_components_to_plot: int\n",
    "      The number of principal components to display in the scree plot.\n",
    "      \n",
    "    title: str\n",
    "      A title for the scree plot.\n",
    "    \"\"\"\n",
    "    num_components = pca.n_components_\n",
    "    ind = np.arange(num_components)\n",
    "    vals = pca.explained_variance_ratio_\n",
    "    ax.plot(ind, vals, color='blue')\n",
    "    ax.scatter(ind, vals, color='blue', s=50)\n",
    "\n",
    "    for i in range(num_components):\n",
    "        ax.annotate(r\"{:2.2f}%\".format(vals[i]), \n",
    "            (ind[i]+0.2, vals[i]+0.005), \n",
    "            va=\"bottom\", \n",
    "            ha=\"center\", \n",
    "            fontsize=12)\n",
    "\n",
    "    ax.set_xticklabels(ind, fontsize=12)\n",
    "    ax.set_ylim(0, max(vals) + 0.05)\n",
    "    ax.set_xlim(0 - 0.45, n_components_to_plot + 0.45)\n",
    "    ax.set_xlabel(\"Principal Component\", fontsize=12)\n",
    "    ax.set_ylabel(\"Variance Explained (%)\", fontsize=12)\n",
    "    if title is not None:\n",
    "        ax.set_title(title, fontsize=16)\n",
    "    \n",
    "    "
   ]
  },
  {
   "cell_type": "code",
   "execution_count": 62,
   "metadata": {},
   "outputs": [
    {
     "name": "stderr",
     "output_type": "stream",
     "text": [
      "/Users/joshchow/opt/anaconda3/lib/python3.7/site-packages/ipykernel_launcher.py:33: UserWarning: FixedFormatter should only be used together with FixedLocator\n"
     ]
    },
    {
     "data": {
      "image/png": "[encoded data removed]",
      "text/plain": [
       "<Figure size 1152x576 with 1 Axes>"
      ]
     },
     "metadata": {
      "needs_background": "light"
     },
     "output_type": "display_data"
    }
   ],
   "source": [
    "fig, ax = plt.subplots(figsize=(16,8))\n",
    "scree_plot(ax, xpca)"
   ]
  },
  {
   "cell_type": "code",
   "execution_count": 63,
   "metadata": {},
   "outputs": [
    {
     "name": "stderr",
     "output_type": "stream",
     "text": [
      "/Users/joshchow/opt/anaconda3/lib/python3.7/site-packages/ipykernel_launcher.py:33: UserWarning: FixedFormatter should only be used together with FixedLocator\n"
     ]
    },
    {
     "data": {
      "image/png": "[encoded data removed]",
      "text/plain": [
       "<Figure size 1152x576 with 1 Axes>"
      ]
     },
     "metadata": {
      "needs_background": "light"
     },
     "output_type": "display_data"
    }
   ],
   "source": [
    "fig, ax = plt.subplots(figsize=(16,8))\n",
    "scree_plot(ax, ypca)"
   ]
  },
  {
   "cell_type": "code",
   "execution_count": 90,
   "metadata": {},
   "outputs": [],
   "source": [
    "pca = PCA(n_components=2)\n",
    "Xpca2 = pca.fit_transform(X)"
   ]
  },
  {
   "cell_type": "code",
   "execution_count": 92,
   "metadata": {},
   "outputs": [
    {
     "data": {
      "text/plain": [
       "(554, 2)"
      ]
     },
     "execution_count": 92,
     "metadata": {},
     "output_type": "execute_result"
    }
   ],
   "source": [
    "Xpca2.shape"
   ]
  },
  {
   "cell_type": "code",
   "execution_count": 74,
   "metadata": {},
   "outputs": [],
   "source": [
    "rf = RandomForestRegressor()"
   ]
  },
  {
   "cell_type": "code",
   "execution_count": 77,
   "metadata": {},
   "outputs": [],
   "source": [
    "dt = DecisionTreeRegressor()"
   ]
  },
  {
   "cell_type": "code",
   "execution_count": 79,
   "metadata": {},
   "outputs": [],
   "source": [
    "base_rf = rf.fit(X, y)"
   ]
  },
  {
   "cell_type": "code",
   "execution_count": 97,
   "metadata": {},
   "outputs": [
    {
     "name": "stdout",
     "output_type": "stream",
     "text": [
      "{'bootstrap': [True, False],\n",
      " 'max_depth': [10, 20, 30, 40, 50, 60, 70, 80, 90, 100, 110, None],\n",
      " 'max_features': [1, 2, 3, 4, 5, 6],\n",
      " 'min_samples_leaf': [1, 2, 3],\n",
      " 'min_samples_split': [2, 4, 6],\n",
      " 'n_estimators': [5, 115, 226, 336, 447, 557, 668, 778, 889, 1000]}\n"
     ]
    }
   ],
   "source": [
    "# Number of trees in random forest\n",
    "n_estimators = [int(x) for x in np.linspace(start = 5, stop = 1000, num = 10)]\n",
    "# Number of features to consider at every split\n",
    "max_features = [1,2,3,4,5,6]\n",
    "# Maximum number of levels in tree\n",
    "max_depth = [int(x) for x in np.linspace(10, 110, num = 11)]\n",
    "max_depth.append(None)\n",
    "# Minimum number of samples required to split a node\n",
    "min_samples_split = [2, 4, 6]\n",
    "# Minimum number of samples required at each leaf node\n",
    "min_samples_leaf = [1, 2, 3]\n",
    "# Method of selecting samples for training each tree\n",
    "bootstrap = [True, False]\n",
    "\n",
    "random_grid = {'n_estimators': n_estimators,\n",
    "               'max_features': max_features,\n",
    "               'max_depth': max_depth,\n",
    "               'min_samples_split': min_samples_split,\n",
    "               'min_samples_leaf': min_samples_leaf,\n",
    "               'bootstrap': bootstrap}\n",
    "\n",
    "pprint(random_grid)"
   ]
  },
  {
   "cell_type": "code",
   "execution_count": 188,
   "metadata": {},
   "outputs": [
    {
     "data": {
      "text/plain": [
       "3"
      ]
     },
     "execution_count": 188,
     "metadata": {},
     "output_type": "execute_result"
    }
   ],
   "source": [
    "len(X1.columns)"
   ]
  },
  {
   "cell_type": "code",
   "execution_count": 168,
   "metadata": {},
   "outputs": [],
   "source": [
    "def rand_grid_search(X, y):\n",
    "    # Number of trees in random forest\n",
    "    n_estimators = [int(x) for x in np.linspace(start = 5, stop = 1000, num = 10)]\n",
    "    # Number of features to consider at every split\n",
    "    max_features = [1,2,3,4,5,6]\n",
    "    # Maximum number of levels in tree\n",
    "    max_depth = [int(x) for x in np.linspace(10, 110, num = 11)]\n",
    "    max_depth.append(None)\n",
    "    # Minimum number of samples required to split a node\n",
    "    min_samples_split = [2, 4, 6]\n",
    "    # Minimum number of samples required at each leaf node\n",
    "    min_samples_leaf = [1, 2, 3]\n",
    "    # Method of selecting samples for training each tree\n",
    "    bootstrap = [True, False]\n",
    "\n",
    "    random_grid = {'n_estimators': n_estimators,\n",
    "                   'max_features': max_features,\n",
    "                   'max_depth': max_depth,\n",
    "                   'min_samples_split': min_samples_split,\n",
    "                   'min_samples_leaf': min_samples_leaf,\n",
    "                   'bootstrap': bootstrap}\n",
    "    # Use the random grid to search for best hyperparameters\n",
    "    # First create the base model to tune\n",
    "    rf = RandomForestRegressor()\n",
    "    # Random search of parameters, using 3 fold cross validation, \n",
    "    # search across 100 different combinations, and use all available cores\n",
    "    rf_random = RandomizedSearchCV(estimator = rf, param_distributions = random_grid, n_iter = 100, cv = 3, verbose=2, random_state=42, n_jobs = -1)\n",
    "    # Fit the random search model\n",
    "    rf_random.fit(X_train, y_train)\n",
    "    return rf_random.best_estimator_"
   ]
  },
  {
   "cell_type": "code",
   "execution_count": 293,
   "metadata": {},
   "outputs": [
    {
     "name": "stdout",
     "output_type": "stream",
     "text": [
      "Fitting 3 folds for each of 100 candidates, totalling 300 fits\n"
     ]
    },
    {
     "name": "stderr",
     "output_type": "stream",
     "text": [
      "[Parallel(n_jobs=-1)]: Using backend LokyBackend with 8 concurrent workers.\n",
      "[Parallel(n_jobs=-1)]: Done  25 tasks      | elapsed:    4.1s\n",
      "[Parallel(n_jobs=-1)]: Done 146 tasks      | elapsed:   18.6s\n",
      "[Parallel(n_jobs=-1)]: Done 300 out of 300 | elapsed:   32.3s finished\n"
     ]
    }
   ],
   "source": [
    "model = rand_grid_search(X1, y)"
   ]
  },
  {
   "cell_type": "code",
   "execution_count": 101,
   "metadata": {},
   "outputs": [
    {
     "name": "stdout",
     "output_type": "stream",
     "text": [
      "Fitting 3 folds for each of 100 candidates, totalling 300 fits\n"
     ]
    },
    {
     "name": "stderr",
     "output_type": "stream",
     "text": [
      "[Parallel(n_jobs=-1)]: Using backend LokyBackend with 8 concurrent workers.\n",
      "[Parallel(n_jobs=-1)]: Done  25 tasks      | elapsed:    5.7s\n",
      "[Parallel(n_jobs=-1)]: Done 146 tasks      | elapsed:   28.3s\n",
      "[Parallel(n_jobs=-1)]: Done 300 out of 300 | elapsed:   53.8s finished\n"
     ]
    },
    {
     "data": {
      "text/plain": [
       "RandomizedSearchCV(cv=3, estimator=RandomForestRegressor(), n_iter=100,\n",
       "                   n_jobs=-1,\n",
       "                   param_distributions={'bootstrap': [True, False],\n",
       "                                        'max_depth': [10, 20, 30, 40, 50, 60,\n",
       "                                                      70, 80, 90, 100, 110,\n",
       "                                                      None],\n",
       "                                        'max_features': [1, 2, 3, 4, 5, 6],\n",
       "                                        'min_samples_leaf': [1, 2, 3],\n",
       "                                        'min_samples_split': [2, 4, 6],\n",
       "                                        'n_estimators': [5, 115, 226, 336, 447,\n",
       "                                                         557, 668, 778, 889,\n",
       "                                                         1000]},\n",
       "                   random_state=42, verbose=2)"
      ]
     },
     "execution_count": 101,
     "metadata": {},
     "output_type": "execute_result"
    }
   ],
   "source": [
    "# Use the random grid to search for best hyperparameters\n",
    "# First create the base model to tune\n",
    "rf = RandomForestRegressor()\n",
    "# Random search of parameters, using 3 fold cross validation, \n",
    "# search across 100 different combinations, and use all available cores\n",
    "rf_random = RandomizedSearchCV(estimator = rf, param_distributions = random_grid, n_iter = 100, cv = 3, verbose=2, random_state=42, n_jobs = -1)\n",
    "# Fit the random search model\n",
    "rf_random.fit(X_train, y_train)"
   ]
  },
  {
   "cell_type": "code",
   "execution_count": 108,
   "metadata": {},
   "outputs": [
    {
     "data": {
      "text/plain": [
       "{'n_estimators': 336,\n",
       " 'min_samples_split': 4,\n",
       " 'min_samples_leaf': 3,\n",
       " 'max_features': 2,\n",
       " 'max_depth': 80,\n",
       " 'bootstrap': True}"
      ]
     },
     "execution_count": 108,
     "metadata": {},
     "output_type": "execute_result"
    }
   ],
   "source": [
    "rf_random.best_params_"
   ]
  },
  {
   "cell_type": "code",
   "execution_count": 110,
   "metadata": {},
   "outputs": [],
   "source": [
    "# Create the parameter grid based on the results of random search \n",
    "param_grid = {\n",
    "    'bootstrap': [True],\n",
    "    'max_depth': [60, 70, 80, 90, 100, 110],\n",
    "    'max_features': [2, 3],\n",
    "    'min_samples_leaf': [2, 3, 4, 5],\n",
    "    'min_samples_split': [2, 4, 6, 8, 10],\n",
    "    'n_estimators': [np.linspace(300, 350, 5)]\n",
    "}\n",
    "# Create a based model\n",
    "rf = RandomForestRegressor()\n",
    "# Instantiate the grid search model\n",
    "grid_search = GridSearchCV(estimator = rf, param_grid = param_grid, \n",
    "                          cv = 3, n_jobs = -1, verbose = 2)"
   ]
  },
  {
   "cell_type": "code",
   "execution_count": 118,
   "metadata": {},
   "outputs": [],
   "source": [
    "grid_search = GridSearchCV(estimator = rf, param_grid = param_grid, \n",
    "                          cv = 3, n_jobs = -1, verbose = 2)"
   ]
  },
  {
   "cell_type": "code",
   "execution_count": 124,
   "metadata": {},
   "outputs": [
    {
     "data": {
      "text/plain": [
       "Text(0.5, 1.0, 'Accuracy vs Num Trees')"
      ]
     },
     "execution_count": 124,
     "metadata": {},
     "output_type": "execute_result"
    },
    {
     "data": {
      "image/png": "[encoded data removed]",
      "text/plain": [
       "<Figure size 432x288 with 1 Axes>"
      ]
     },
     "metadata": {
      "needs_background": "light"
     },
     "output_type": "display_data"
    }
   ],
   "source": [
    "num_trees = range(100, 400, 10)\n",
    "accuracies = []\n",
    "for n in num_trees:\n",
    "    tot = 0\n",
    "    for i in range(5):\n",
    "        rf = RandomForestRegressor(n_estimators=n)\n",
    "        rf.fit(X_train, y_train)\n",
    "        tot += rf.score(X_test, y_test)\n",
    "    accuracies.append(tot / 5)\n",
    "fig, ax = plt.subplots()\n",
    "ax.plot(num_trees, accuracies)\n",
    "ax.set_xlabel(\"Number of Trees\")\n",
    "ax.set_ylabel(\"Accuracy\")\n",
    "ax.set_title('Accuracy vs Num Trees')"
   ]
  },
  {
   "cell_type": "code",
   "execution_count": 125,
   "metadata": {},
   "outputs": [],
   "source": [
    "def evaluate(model, test_features, test_labels):\n",
    "    predictions = model.predict(test_features)\n",
    "    errors = abs(predictions - test_labels)\n",
    "    mape = 100 * np.mean(errors / test_labels)\n",
    "    accuracy = 100 - mape\n",
    "    print('Model Performance')\n",
    "    print('Average Error: \\n{} degrees.'.format(np.mean(errors)))\n",
    "    print('Accuracy = \\n{}%.'.format(accuracy))\n",
    "    \n",
    "    return accuracy"
   ]
  },
  {
   "cell_type": "code",
   "execution_count": 134,
   "metadata": {},
   "outputs": [
    {
     "data": {
      "text/plain": [
       "RandomForestRegressor()"
      ]
     },
     "execution_count": 134,
     "metadata": {},
     "output_type": "execute_result"
    }
   ],
   "source": [
    "dt = DecisionTreeRegressor()\n",
    "dt.fit(X_train, y_train)\n",
    "rf = RandomForestRegressor()\n",
    "rf.fit(X_train, y_train)"
   ]
  },
  {
   "cell_type": "code",
   "execution_count": 135,
   "metadata": {},
   "outputs": [
    {
     "name": "stdout",
     "output_type": "stream",
     "text": [
      "Model Performance\n",
      "Average Error: \n",
      "BehindClothLengthSetNumber     1.936980\n",
      "FrontClothLengthSetNumber      1.861596\n",
      "ShoulderWidthSetNumber         1.650219\n",
      "BustSetNumber                  3.564093\n",
      "AbdomenSetNumber               4.029601\n",
      "HemSetNumber                  13.728443\n",
      "LeftSleeveLengthSetNumber      1.916817\n",
      "RightSleeveLengthSetNumber     2.178078\n",
      "Wrist finish                   1.189189\n",
      "dtype: float64 degrees.\n",
      "Accuracy = \n",
      "BehindClothLengthSetNumber    35.043526\n",
      "FrontClothLengthSetNumber     33.301168\n",
      "ShoulderWidthSetNumber        57.144995\n",
      "BustSetNumber                 87.645772\n",
      "AbdomenSetNumber              67.603260\n",
      "HemSetNumber                       -inf\n",
      "LeftSleeveLengthSetNumber          -inf\n",
      "RightSleeveLengthSetNumber         -inf\n",
      "Wrist finish                  73.394126\n",
      "dtype: float64%.\n"
     ]
    }
   ],
   "source": [
    "evaluate(dt, X_test, y_test);"
   ]
  },
  {
   "cell_type": "code",
   "execution_count": 137,
   "metadata": {},
   "outputs": [
    {
     "name": "stdout",
     "output_type": "stream",
     "text": [
      "Model Performance\n",
      "Average Error: \n",
      "BehindClothLengthSetNumber     2.075736\n",
      "FrontClothLengthSetNumber      1.720941\n",
      "ShoulderWidthSetNumber         1.676190\n",
      "BustSetNumber                  3.525503\n",
      "AbdomenSetNumber               3.538593\n",
      "HemSetNumber                  11.840262\n",
      "LeftSleeveLengthSetNumber      1.871185\n",
      "RightSleeveLengthSetNumber     2.046188\n",
      "Wrist finish                   1.172928\n",
      "dtype: float64 degrees.\n",
      "Accuracy = \n",
      "BehindClothLengthSetNumber         -inf\n",
      "FrontClothLengthSetNumber     33.968705\n",
      "ShoulderWidthSetNumber        57.439007\n",
      "BustSetNumber                 87.537874\n",
      "AbdomenSetNumber                   -inf\n",
      "HemSetNumber                       -inf\n",
      "LeftSleeveLengthSetNumber          -inf\n",
      "RightSleeveLengthSetNumber         -inf\n",
      "Wrist finish                  72.964832\n",
      "dtype: float64%.\n"
     ]
    }
   ],
   "source": [
    "evaluate(rf, X_test, y_test);"
   ]
  },
  {
   "cell_type": "code",
   "execution_count": 140,
   "metadata": {},
   "outputs": [
    {
     "data": {
      "image/png": "[encoded data removed]",
      "text/plain": [
       "<Figure size 921.6x691.2 with 1 Axes>"
      ]
     },
     "metadata": {
      "needs_background": "light"
     },
     "output_type": "display_data"
    }
   ],
   "source": [
    "from sklearn.inspection import permutation_importance\n",
    "\n",
    "result = permutation_importance(dt, X_train, y_train, n_repeats=10, random_state=11, n_jobs=-1)\n",
    "\n",
    "sorted_idx = result.importances_mean.argsort()\n",
    "\n",
    "fig, ax = plt.subplots(figsize=(6.4*2,4.8*2), tight_layout=True)\n",
    "ax.boxplot(result.importances[sorted_idx].T,\n",
    "           vert=False, labels=X_test.columns[sorted_idx])\n",
    "ax.set_title(\"Permutation Importances (train set)\")\n",
    "plt.show()"
   ]
  },
  {
   "cell_type": "code",
   "execution_count": 152,
   "metadata": {},
   "outputs": [
    {
     "data": {
      "image/png": "[encoded data removed]",
      "text/plain": [
       "<Figure size 921.6x691.2 with 1 Axes>"
      ]
     },
     "metadata": {
      "needs_background": "light"
     },
     "output_type": "display_data"
    }
   ],
   "source": [
    "result = permutation_importance(rf, X_train, y_train, n_repeats=10, random_state=11, n_jobs=-1)\n",
    "\n",
    "sorted_idx = result.importances_mean.argsort()\n",
    "\n",
    "fig, ax = plt.subplots(figsize=(6.4*2,4.8*2), tight_layout=True)\n",
    "ax.boxplot(result.importances[sorted_idx].T,\n",
    "           vert=False, labels=X_train.columns[sorted_idx])\n",
    "ax.set_title(\"Permutation Importances (train set)\")\n",
    "plt.show()"
   ]
  },
  {
   "cell_type": "code",
   "execution_count": 144,
   "metadata": {},
   "outputs": [
    {
     "name": "stderr",
     "output_type": "stream",
     "text": [
      "/Users/joshchow/opt/anaconda3/lib/python3.7/site-packages/pandas/core/frame.py:4170: SettingWithCopyWarning: \n",
      "A value is trying to be set on a copy of a slice from a DataFrame\n",
      "\n",
      "See the caveats in the documentation: https://pandas.pydata.org/pandas-docs/stable/user_guide/indexing.html#returning-a-view-versus-a-copy\n",
      "  errors=errors,\n"
     ]
    }
   ],
   "source": [
    "X_train.drop(columns='FrontClothLengthBody', inplace=True)"
   ]
  },
  {
   "cell_type": "code",
   "execution_count": 149,
   "metadata": {},
   "outputs": [
    {
     "data": {
      "text/plain": [
       "RandomForestRegressor()"
      ]
     },
     "execution_count": 149,
     "metadata": {},
     "output_type": "execute_result"
    }
   ],
   "source": [
    "rf.fit(X_train, y_train)"
   ]
  },
  {
   "cell_type": "code",
   "execution_count": 157,
   "metadata": {},
   "outputs": [
    {
     "name": "stdout",
     "output_type": "stream",
     "text": [
      "Model Performance\n",
      "Average Error: \n",
      "BehindClothLengthSetNumber     2.171844\n",
      "FrontClothLengthSetNumber      1.916707\n",
      "ShoulderWidthSetNumber         1.606858\n",
      "BustSetNumber                  3.478886\n",
      "AbdomenSetNumber               3.538586\n",
      "HemSetNumber                  11.420370\n",
      "LeftSleeveLengthSetNumber      1.827472\n",
      "RightSleeveLengthSetNumber     1.992408\n",
      "Wrist finish                   1.182169\n",
      "dtype: float64 degrees.\n",
      "Accuracy = \n",
      "BehindClothLengthSetNumber         -inf\n",
      "FrontClothLengthSetNumber     33.356282\n",
      "ShoulderWidthSetNumber        57.358783\n",
      "BustSetNumber                 87.539167\n",
      "AbdomenSetNumber                   -inf\n",
      "HemSetNumber                       -inf\n",
      "LeftSleeveLengthSetNumber          -inf\n",
      "RightSleeveLengthSetNumber         -inf\n",
      "Wrist finish                  72.803455\n",
      "dtype: float64%.\n"
     ]
    }
   ],
   "source": [
    "evaluate(rf, X_test, y_test);"
   ]
  },
  {
   "cell_type": "code",
   "execution_count": 155,
   "metadata": {},
   "outputs": [
    {
     "name": "stderr",
     "output_type": "stream",
     "text": [
      "/Users/joshchow/opt/anaconda3/lib/python3.7/site-packages/pandas/core/frame.py:4170: SettingWithCopyWarning: \n",
      "A value is trying to be set on a copy of a slice from a DataFrame\n",
      "\n",
      "See the caveats in the documentation: https://pandas.pydata.org/pandas-docs/stable/user_guide/indexing.html#returning-a-view-versus-a-copy\n",
      "  errors=errors,\n"
     ]
    }
   ],
   "source": [
    "X_test.drop(columns='FrontClothLengthBody', inplace=True)"
   ]
  },
  {
   "cell_type": "code",
   "execution_count": null,
   "metadata": {},
   "outputs": [],
   "source": []
  }
 ],
 "metadata": {
  "kernelspec": {
   "display_name": "Python 3",
   "language": "python",
   "name": "python3"
  },
  "language_info": {
   "codemirror_mode": {
    "name": "ipython",
    "version": 3
   },
   "file_extension": ".py",
   "mimetype": "text/x-python",
   "name": "python",
   "nbconvert_exporter": "python",
   "pygments_lexer": "ipython3",
   "version": "3.7.9"
  }
 },
 "nbformat": 4,
 "nbformat_minor": 4
}
