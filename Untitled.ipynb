{
 "cells": [
  {
   "cell_type": "code",
   "execution_count": 81,
   "metadata": {},
   "outputs": [],
   "source": [
    "from src import regressor\n",
    "from src.predict import predict"
   ]
  },
  {
   "cell_type": "code",
   "execution_count": 82,
   "metadata": {},
   "outputs": [
    {
     "name": "stdin",
     "output_type": "stream",
     "text": [
      "Body Chest Measurement:  124\n",
      "Shoulder Measurement:  24\n",
      "Wrist Measurement:  24\n"
     ]
    }
   ],
   "source": [
    "predict = predict()"
   ]
  },
  {
   "cell_type": "code",
   "execution_count": 71,
   "metadata": {},
   "outputs": [],
   "source": [
    "from joblib import load\n",
    "import pandas as pd\n",
    "import numpy as np"
   ]
  },
  {
   "cell_type": "code",
   "execution_count": 58,
   "metadata": {},
   "outputs": [],
   "source": [
    "columns = pd.DataFrame(index=list(load('src/column_names.pkl')))"
   ]
  },
  {
   "cell_type": "code",
   "execution_count": 73,
   "metadata": {},
   "outputs": [],
   "source": [
    "columns['predicton'] = pd.DataFrame.fillna"
   ]
  },
  {
   "cell_type": "code",
   "execution_count": 96,
   "metadata": {},
   "outputs": [],
   "source": [
    "for i in range(len(columns)):\n",
    "    columns.iloc[i] = predict[0,i]"
   ]
  },
  {
   "cell_type": "code",
   "execution_count": 97,
   "metadata": {},
   "outputs": [
    {
     "data": {
      "text/html": [
       "<div>\n",
       "<style scoped>\n",
       "    .dataframe tbody tr th:only-of-type {\n",
       "        vertical-align: middle;\n",
       "    }\n",
       "\n",
       "    .dataframe tbody tr th {\n",
       "        vertical-align: top;\n",
       "    }\n",
       "\n",
       "    .dataframe thead th {\n",
       "        text-align: right;\n",
       "    }\n",
       "</style>\n",
       "<table border=\"1\" class=\"dataframe\">\n",
       "  <thead>\n",
       "    <tr style=\"text-align: right;\">\n",
       "      <th></th>\n",
       "      <th>predicton</th>\n",
       "    </tr>\n",
       "  </thead>\n",
       "  <tbody>\n",
       "    <tr>\n",
       "      <th>BehindClothLengthSetNumber</th>\n",
       "      <td>73.526</td>\n",
       "    </tr>\n",
       "    <tr>\n",
       "      <th>FrontClothLengthSetNumber</th>\n",
       "      <td>76.9542</td>\n",
       "    </tr>\n",
       "    <tr>\n",
       "      <th>ShoulderWidthSetNumber</th>\n",
       "      <td>46.1964</td>\n",
       "    </tr>\n",
       "    <tr>\n",
       "      <th>BustSetNumber</th>\n",
       "      <td>109.905</td>\n",
       "    </tr>\n",
       "    <tr>\n",
       "      <th>AbdomenSetNumber</th>\n",
       "      <td>95.4221</td>\n",
       "    </tr>\n",
       "    <tr>\n",
       "      <th>HemSetNumber</th>\n",
       "      <td>107.226</td>\n",
       "    </tr>\n",
       "    <tr>\n",
       "      <th>LeftSleeveLengthSetNumber</th>\n",
       "      <td>61.8294</td>\n",
       "    </tr>\n",
       "    <tr>\n",
       "      <th>RightSleeveLengthSetNumber</th>\n",
       "      <td>61.8241</td>\n",
       "    </tr>\n",
       "    <tr>\n",
       "      <th>Wrist finish</th>\n",
       "      <td>27.6057</td>\n",
       "    </tr>\n",
       "  </tbody>\n",
       "</table>\n",
       "</div>"
      ],
      "text/plain": [
       "                           predicton\n",
       "BehindClothLengthSetNumber    73.526\n",
       "FrontClothLengthSetNumber    76.9542\n",
       "ShoulderWidthSetNumber       46.1964\n",
       "BustSetNumber                109.905\n",
       "AbdomenSetNumber             95.4221\n",
       "HemSetNumber                 107.226\n",
       "LeftSleeveLengthSetNumber    61.8294\n",
       "RightSleeveLengthSetNumber   61.8241\n",
       "Wrist finish                 27.6057"
      ]
     },
     "execution_count": 97,
     "metadata": {},
     "output_type": "execute_result"
    }
   ],
   "source": [
    "columns"
   ]
  },
  {
   "cell_type": "code",
   "execution_count": 79,
   "metadata": {},
   "outputs": [
    {
     "data": {
      "text/plain": [
       "0    72.40395\n",
       "Name: 0, dtype: float64"
      ]
     },
     "execution_count": 79,
     "metadata": {},
     "output_type": "execute_result"
    }
   ],
   "source": [
    "predict_df[0]"
   ]
  },
  {
   "cell_type": "code",
   "execution_count": null,
   "metadata": {},
   "outputs": [],
   "source": []
  }
 ],
 "metadata": {
  "kernelspec": {
   "display_name": "Python 3",
   "language": "python",
   "name": "python3"
  },
  "language_info": {
   "codemirror_mode": {
    "name": "ipython",
    "version": 3
   },
   "file_extension": ".py",
   "mimetype": "text/x-python",
   "name": "python",
   "nbconvert_exporter": "python",
   "pygments_lexer": "ipython3",
   "version": "3.7.9"
  }
 },
 "nbformat": 4,
 "nbformat_minor": 4
}
