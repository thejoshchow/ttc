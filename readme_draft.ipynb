{
 "cells": [
  {
   "cell_type": "markdown",
   "metadata": {},
   "source": [
    "# TruTailorCo TruFit\n",
    "\n",
    "![img](img/title.jpg)\n",
    "\n",
    "Perfect fit, guaranteed, every time"
   ]
  },
  {
   "cell_type": "markdown",
   "metadata": {},
   "source": [
    "---"
   ]
  },
  {
   "cell_type": "markdown",
   "metadata": {},
   "source": [
    "## Data Acquisition\n",
    "Points of measurements:\n",
    "- Jacket:\n",
    "    - Front length\n",
    "    - Back length\n",
    "    - Shoulder\n",
    "    - Chest\n",
    "    - Front Chest\n",
    "    - Stomach\n",
    "    - Bicep\n",
    "- Pants:\n",
    "    - Waist\n",
    "    - Hip\n",
    "    - Thigh\n",
    "    - Knee\n",
    "    - Calf\n",
    "    - Cuff\n",
    "    - Crotch"
   ]
  },
  {
   "cell_type": "markdown",
   "metadata": {},
   "source": [
    "---"
   ]
  },
  {
   "cell_type": "markdown",
   "metadata": {},
   "source": [
    "## EDA\n",
    "\n",
    "Data was recieved in a fairly cleaned and organized state. Rows with zeroes were removed, as they represented orders without a jacket order.\n",
    "\n",
    "Because we are working with body measurements, multicollinearity was a concern, due to the geometric nature of the human body. I had initially began by removing features and targets by intuition and followed with a permutation importance plot on the targets.  \n",
    "![img](img/permutation_train.png)\n",
    "\n",
    "Principal component analysis was another method I'd considered to reduce the effect of collinearity. The cumulative explained variance plotted against the number of components to be used can be seen below.  \n",
    "![img](img/pca_variance.png)\n",
    "\n",
    "Ultimately, PCA was not used. Further exploration is required."
   ]
  },
  {
   "cell_type": "markdown",
   "metadata": {},
   "source": [
    "---"
   ]
  },
  {
   "cell_type": "markdown",
   "metadata": {},
   "source": [
    "## Modeling\n",
    "\n",
    "I decided to utilize a random forest regression for the following reasons:  \n",
    "- natively supports multi-outputs\n",
    "- reduce overfitting of data commonly associated with a single decision tree\n",
    "- valuation of accuracy of results over interpretability\n",
    "\n",
    "I considered the use of a neural network, but because of the constraint of a limited dataset as well as the operating expense of a neural network, I ultimately went with the simplicity of a regression model.\n",
    "\n",
    "A random, cross-validated search on a random forest regresson was used to tune and fit the model. Further tuning is required.\n",
    "\n",
    "Two methods were used to train the model. The first method takes three features to predict on nine targets. The second utilizes two model. The first predicts a full set of body measurements, which is then used to predict the final garment measurements. While both methods yielded similar results, the second was used in the application as it resulted in a sightly higher accuracy and lower standard error."
   ]
  },
  {
   "cell_type": "markdown",
   "metadata": {},
   "source": [
    "---"
   ]
  },
  {
   "cell_type": "markdown",
   "metadata": {},
   "source": [
    "## Application\n",
    "\n",
    "Model was pickled and built into a basic python application.\n",
    "\n",
    "Source code for model training as well as a basic application is included in the ```src``` folder.\n",
    "\n",
    "```predict.py``` will generate nine garment measurments for the construction of a jacket given the chest, shoulder, and wrist of an individual.\n",
    "\n",
    "Web-app development for internal use."
   ]
  },
  {
   "cell_type": "markdown",
   "metadata": {},
   "source": [
    "---"
   ]
  },
  {
   "cell_type": "markdown",
   "metadata": {},
   "source": [
    "## Next steps\n",
    "\n",
    "Ideally, height, weight and one more arbitrary measurement would be our predictors, but my current dataset is incomplete.  \n",
    "Retraining with increased features as well as fine-tuning hyperparameters are required."
   ]
  }
 ],
 "metadata": {
  "kernelspec": {
   "display_name": "Python 3",
   "language": "python",
   "name": "python3"
  },
  "language_info": {
   "codemirror_mode": {
    "name": "ipython",
    "version": 3
   },
   "file_extension": ".py",
   "mimetype": "text/x-python",
   "name": "python",
   "nbconvert_exporter": "python",
   "pygments_lexer": "ipython3",
   "version": "3.7.9"
  }
 },
 "nbformat": 4,
 "nbformat_minor": 4
}
